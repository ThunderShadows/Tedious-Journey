{
 "cells": [
  {
   "cell_type": "code",
   "execution_count": 1,
   "id": "460cb05c-7a57-45a1-aa24-939638889e9d",
   "metadata": {},
   "outputs": [
    {
     "name": "stdout",
     "output_type": "stream",
     "text": [
      "Collecting openpyxl\n",
      "  Using cached openpyxl-3.1.5-py2.py3-none-any.whl.metadata (2.5 kB)\n",
      "Collecting et-xmlfile (from openpyxl)\n",
      "  Using cached et_xmlfile-2.0.0-py3-none-any.whl.metadata (2.7 kB)\n",
      "Using cached openpyxl-3.1.5-py2.py3-none-any.whl (250 kB)\n",
      "Using cached et_xmlfile-2.0.0-py3-none-any.whl (18 kB)\n",
      "Installing collected packages: et-xmlfile, openpyxl\n",
      "Successfully installed et-xmlfile-2.0.0 openpyxl-3.1.5\n"
     ]
    }
   ],
   "source": [
    "!pip install openpyxl"
   ]
  },
  {
   "cell_type": "code",
   "execution_count": 21,
   "id": "00274fb7-1bab-442f-9f41-d744caae8513",
   "metadata": {},
   "outputs": [
    {
     "name": "stdout",
     "output_type": "stream",
     "text": [
      "Collecting xlsxwriter\n",
      "  Downloading XlsxWriter-3.2.0-py3-none-any.whl.metadata (2.6 kB)\n",
      "Downloading XlsxWriter-3.2.0-py3-none-any.whl (159 kB)\n",
      "Installing collected packages: xlsxwriter\n",
      "Successfully installed xlsxwriter-3.2.0\n"
     ]
    }
   ],
   "source": [
    "!pip install xlsxwriter"
   ]
  },
  {
   "cell_type": "code",
   "execution_count": 22,
   "id": "a5dbda45-c30b-4dbe-8e6c-7055b62d41e7",
   "metadata": {},
   "outputs": [],
   "source": [
    "import openpyxl as xl\n",
    "import xlsxwriter\n",
    "wb = xl.load_workbook('transactions.xlsx')"
   ]
  },
  {
   "cell_type": "code",
   "execution_count": 23,
   "id": "467fc863-c740-46e4-aea5-0c380295b70d",
   "metadata": {},
   "outputs": [],
   "source": [
    "sheet = wb['Sheet1']\n",
    "cell = sheet['a1']"
   ]
  },
  {
   "cell_type": "code",
   "execution_count": 24,
   "id": "09e54b76-b9ae-4862-84d9-c5b6eeed781c",
   "metadata": {},
   "outputs": [
    {
     "name": "stdout",
     "output_type": "stream",
     "text": [
      "transaction_id\n"
     ]
    }
   ],
   "source": [
    "print(cell.value)"
   ]
  },
  {
   "cell_type": "code",
   "execution_count": 25,
   "id": "25c32213-a4bd-492e-b4b5-d7554a0c5417",
   "metadata": {},
   "outputs": [],
   "source": [
    "cell1 = sheet.cell(1,1)"
   ]
  },
  {
   "cell_type": "code",
   "execution_count": 26,
   "id": "969790c5-1f7b-4692-862e-7cfe2a302590",
   "metadata": {},
   "outputs": [
    {
     "name": "stdout",
     "output_type": "stream",
     "text": [
      "transaction_id\n"
     ]
    }
   ],
   "source": [
    "print(cell1.value)"
   ]
  },
  {
   "cell_type": "code",
   "execution_count": 27,
   "id": "d8079ce7-96bd-4c4c-9132-8c16b99cb3e9",
   "metadata": {},
   "outputs": [
    {
     "name": "stdout",
     "output_type": "stream",
     "text": [
      "4\n"
     ]
    }
   ],
   "source": [
    "print(sheet.max_row)"
   ]
  },
  {
   "cell_type": "code",
   "execution_count": 31,
   "id": "5fe3e73a-b4e6-40cc-9081-532c5cf7f9e2",
   "metadata": {},
   "outputs": [],
   "source": [
    "from openpyxl.chart import BarChart, Reference"
   ]
  },
  {
   "cell_type": "code",
   "execution_count": 33,
   "id": "602b1989-1125-42cf-a3ec-395f8472931d",
   "metadata": {},
   "outputs": [],
   "source": [
    "for row in range(2, sheet.max_row+1):\n",
    "    cell = sheet.cell(row,3)\n",
    "    corrected_price = (cell.value) * 0.9\n",
    "    corrected_price_cell = sheet.cell(row,4)\n",
    "    corrected_price_cell.value = corrected_price\n",
    "\n",
    "values = Reference(sheet,\n",
    "          min_row=2,\n",
    "          max_row=sheet.max_row,\n",
    "          min_col=4,\n",
    "          max_col=4)\n",
    "\n",
    "chart =BarChart()\n",
    "chart.add_data(values)\n",
    "sheet.add_chart(chart, 'E2')\n",
    "\n",
    "wb.save('transactions2.xlsx')"
   ]
  },
  {
   "cell_type": "code",
   "execution_count": null,
   "id": "2667141d-540e-40f4-b906-2d9c9c111865",
   "metadata": {},
   "outputs": [],
   "source": []
  }
 ],
 "metadata": {
  "kernelspec": {
   "display_name": "Python 3 (ipykernel)",
   "language": "python",
   "name": "python3"
  },
  "language_info": {
   "codemirror_mode": {
    "name": "ipython",
    "version": 3
   },
   "file_extension": ".py",
   "mimetype": "text/x-python",
   "name": "python",
   "nbconvert_exporter": "python",
   "pygments_lexer": "ipython3",
   "version": "3.12.5"
  }
 },
 "nbformat": 4,
 "nbformat_minor": 5
}
